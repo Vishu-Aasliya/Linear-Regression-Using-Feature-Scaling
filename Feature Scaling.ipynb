{
 "cells": [
  {
   "cell_type": "markdown",
   "id": "25808cbe",
   "metadata": {},
   "source": [
    "# Predefined Functions"
   ]
  },
  {
   "cell_type": "code",
   "execution_count": 1,
   "id": "0ec7be71",
   "metadata": {},
   "outputs": [],
   "source": [
    "def step_gradient(X,Y, learning_rate, m, c):\n",
    "    m_check = [0.0 for i in range(13)]\n",
    "    m_slope = np.array(m_check)\n",
    "    c_slope = 0\n",
    "    \n",
    "    M = len(X)\n",
    "    \n",
    "    for i in range(M):\n",
    "        half_sum = 0\n",
    "        for j in range(len(m)):\n",
    "            half_sum+= m[j] * X[i][j]\n",
    "            \n",
    "        half_sum+= c\n",
    "        \n",
    "        for j in range(len(m)):\n",
    "            m_slope[j] += (-2/M)*(Y[i][0]-half_sum)*X[i][j]\n",
    "        \n",
    "        c_slope += (-2/M)*(Y[i][0]-half_sum)\n",
    "        \n",
    "        m -= learning_rate * m_slope\n",
    "        c -= learning_rate * c_slope\n",
    "    return m, c\n",
    "    "
   ]
  },
  {
   "cell_type": "code",
   "execution_count": 2,
   "id": "fd160f43",
   "metadata": {},
   "outputs": [],
   "source": [
    "def cost(X, Y, m , c):\n",
    "    total_cost = 0\n",
    "    M = len(X)\n",
    "    for i in range(M):\n",
    "        half_sum = 0\n",
    "        for j in range(len(m)):\n",
    "            half_sum+= m[j]*X[i][j]\n",
    "        half_sum+=c\n",
    "        \n",
    "        total_cost += (1/M)*((Y[i][0]-half_sum)**2)\n",
    "    return total_cost"
   ]
  },
  {
   "cell_type": "code",
   "execution_count": 3,
   "id": "be9f229f",
   "metadata": {},
   "outputs": [],
   "source": [
    "def gd(X, Y, learning_rate, num_iterations):\n",
    "    m_array = [0.0 for i in range(13)]\n",
    "    m = np.array(m_array)\n",
    "    c = 0\n",
    "    \n",
    "    for i in range(num_iterations):\n",
    "        m,c = step_gradient(X,Y,learning_rate, m,c)\n",
    "        print(i, \"Cost = \", cost(X,Y,m,c))\n",
    "        \n",
    "    return m,c"
   ]
  },
  {
   "cell_type": "code",
   "execution_count": 4,
   "id": "5c63c8c8",
   "metadata": {},
   "outputs": [],
   "source": [
    "def run(X_train, Y_train, learning_rate, num_iterations):\n",
    "    m,c = gd(X_train,Y_train, learning_rate, num_iterations)\n",
    "    print(m,c)\n",
    "    return m,c"
   ]
  },
  {
   "cell_type": "code",
   "execution_count": 5,
   "id": "43925ac0",
   "metadata": {},
   "outputs": [],
   "source": [
    "def score(Y_pred, Y_ori):\n",
    "    Y_new = (Y_ori - Y_pred)**2\n",
    "    u = Y_new.sum()\n",
    "\n",
    "    M = len(Y_ori)\n",
    "    sum1 = Y_ori.sum()\n",
    "    \n",
    "    mean1 = sum1/M\n",
    "    \n",
    "    Y_new2 = (Y_ori - mean1)**2\n",
    "    v = Y_new2.sum()\n",
    "    \n",
    "    return (1 - (u/v))\n",
    "    "
   ]
  },
  {
   "cell_type": "code",
   "execution_count": 6,
   "id": "987c75c5",
   "metadata": {},
   "outputs": [],
   "source": [
    "def predict(X_test, m , c):\n",
    "    predictions = []\n",
    "\n",
    "    for i in range(len(X_test)):\n",
    "        pred = 0\n",
    "        for j in range(len(m)):\n",
    "            pred += m[j]*X_test[i][j]\n",
    "        pred+=c\n",
    "    \n",
    "        predictions.append([pred])\n",
    "    \n",
    "    Y_pred = np.array(predictions)\n",
    "    \n",
    "    return Y_pred\n"
   ]
  },
  {
   "cell_type": "markdown",
   "id": "65e57c48",
   "metadata": {},
   "source": [
    "# Original Code"
   ]
  },
  {
   "cell_type": "code",
   "execution_count": 7,
   "id": "fc5d8e4d",
   "metadata": {},
   "outputs": [],
   "source": [
    "import numpy as np"
   ]
  },
  {
   "cell_type": "code",
   "execution_count": 8,
   "id": "1055f0a3",
   "metadata": {},
   "outputs": [
    {
     "data": {
      "text/plain": [
       "(379, 14)"
      ]
     },
     "execution_count": 8,
     "metadata": {},
     "output_type": "execute_result"
    }
   ],
   "source": [
    "data = np.loadtxt(\"train.csv\", delimiter = \",\")\n",
    "data.shape"
   ]
  },
  {
   "cell_type": "code",
   "execution_count": 9,
   "id": "98346160",
   "metadata": {},
   "outputs": [
    {
     "data": {
      "text/plain": [
       "(379, 13)"
      ]
     },
     "execution_count": 9,
     "metadata": {},
     "output_type": "execute_result"
    }
   ],
   "source": [
    "X = data[:, :13]\n",
    "X.shape"
   ]
  },
  {
   "cell_type": "code",
   "execution_count": 10,
   "id": "1b97ca51",
   "metadata": {},
   "outputs": [
    {
     "data": {
      "text/plain": [
       "(379, 1)"
      ]
     },
     "execution_count": 10,
     "metadata": {},
     "output_type": "execute_result"
    }
   ],
   "source": [
    "Y = data[:, 13:14]\n",
    "Y.shape"
   ]
  },
  {
   "cell_type": "code",
   "execution_count": 27,
   "id": "13c3fcfd",
   "metadata": {},
   "outputs": [
    {
     "data": {
      "text/plain": [
       "(379, 13)"
      ]
     },
     "execution_count": 27,
     "metadata": {},
     "output_type": "execute_result"
    }
   ],
   "source": [
    "#Min Max Feature Scaling\n",
    "\n",
    "for i in range(13):\n",
    "    mini = X[:,i].min()\n",
    "    maxi = X[:,i].max()\n",
    "    difference = maxi- mini\n",
    "    for j in range(len(X)):\n",
    "        a = (X[j][i]-mini)/difference\n",
    "        X[j][i] = a\n",
    "        \n",
    "X.shape"
   ]
  },
  {
   "cell_type": "code",
   "execution_count": 29,
   "id": "adeaee8e",
   "metadata": {},
   "outputs": [],
   "source": [
    "from sklearn import model_selection\n",
    "X_train, X_test, Y_train, Y_test = model_selection.train_test_split(X,Y)"
   ]
  },
  {
   "cell_type": "code",
   "execution_count": 31,
   "id": "670159e0",
   "metadata": {},
   "outputs": [
    {
     "name": "stdout",
     "output_type": "stream",
     "text": [
      "0 Cost =  58.960435898755904\n",
      "1 Cost =  49.98672585967965\n",
      "2 Cost =  45.621626358854094\n",
      "3 Cost =  42.23504626405355\n",
      "4 Cost =  39.60637118057128\n",
      "5 Cost =  37.532295990968\n",
      "6 Cost =  35.866094731868046\n",
      "7 Cost =  34.50551598758327\n",
      "8 Cost =  33.37846181632387\n",
      "9 Cost =  32.4331554659045\n",
      "10 Cost =  31.631694270629005\n",
      "11 Cost =  30.94580412603712\n",
      "12 Cost =  30.354010522300023\n",
      "13 Cost =  29.83972727423612\n",
      "14 Cost =  29.3899457219046\n",
      "15 Cost =  28.994321302057426\n",
      "16 Cost =  28.64452638882316\n",
      "17 Cost =  28.333784001230928\n",
      "18 Cost =  28.05652617766131\n",
      "19 Cost =  27.808139615725807\n",
      "20 Cost =  27.58477337598395\n",
      "21 Cost =  27.38319143785701\n",
      "22 Cost =  27.200658182446\n",
      "23 Cost =  27.034848414418718\n",
      "24 Cost =  26.883775931979002\n",
      "25 Cost =  26.745736299954018\n",
      "26 Cost =  26.61926062767663\n",
      "27 Cost =  26.503077963959996\n",
      "28 Cost =  26.396084503122992\n",
      "29 Cost =  26.297318219553734\n",
      "30 Cost =  26.20593786104495\n",
      "31 Cost =  26.121205465154155\n",
      "32 Cost =  26.042471740086008\n",
      "33 Cost =  25.969163787330075\n",
      "34 Cost =  25.90077474825479\n",
      "35 Cost =  25.836855038751537\n",
      "36 Cost =  25.77700490040043\n",
      "37 Cost =  25.720868047586713\n",
      "38 Cost =  25.66812623057263\n",
      "39 Cost =  25.618494567011876\n",
      "40 Cost =  25.57171752053028\n",
      "41 Cost =  25.52756542610689\n",
      "42 Cost =  25.485831479127803\n",
      "43 Cost =  25.446329118938838\n",
      "44 Cost =  25.40888974913169\n",
      "45 Cost =  25.373360746160373\n",
      "46 Cost =  25.33960371558906\n",
      "47 Cost =  25.307492961642065\n",
      "48 Cost =  25.27691414099923\n",
      "49 Cost =  25.24776307617033\n",
      "50 Cost =  25.219944707441996\n",
      "51 Cost =  25.19337216545173\n",
      "52 Cost =  25.167965949021117\n",
      "53 Cost =  25.143653195039587\n",
      "54 Cost =  25.120367029024806\n",
      "55 Cost =  25.098045986537564\n",
      "56 Cost =  25.07663349694048\n",
      "57 Cost =  25.056077422121064\n",
      "58 Cost =  25.03632964375373\n",
      "59 Cost =  25.017345693502232\n",
      "60 Cost =  24.99908442126691\n",
      "61 Cost =  24.981507697196676\n",
      "62 Cost =  24.96458014370383\n",
      "63 Cost =  24.948268894182885\n",
      "64 Cost =  24.932543375524173\n",
      "65 Cost =  24.917375111859293\n",
      "66 Cost =  24.9027375472762\n",
      "67 Cost =  24.88860588549832\n",
      "68 Cost =  24.87495694475695\n",
      "69 Cost =  24.861769026281564\n",
      "70 Cost =  24.849021795011573\n",
      "71 Cost =  24.83669617128732\n",
      "72 Cost =  24.824774232412306\n",
      "73 Cost =  24.813239123101994\n",
      "74 Cost =  24.802074973938876\n",
      "75 Cost =  24.79126682704607\n",
      "76 Cost =  24.78080056827893\n",
      "77 Cost =  24.770662865303418\n",
      "78 Cost =  24.760841110997745\n",
      "79 Cost =  24.751323371672626\n",
      "80 Cost =  24.74209833965459\n",
      "81 Cost =  24.733155289825838\n",
      "82 Cost =  24.724484039753584\n",
      "83 Cost =  24.716074913078664\n",
      "84 Cost =  24.70791870586594\n",
      "85 Cost =  24.700006655649517\n",
      "86 Cost =  24.69233041292994\n",
      "87 Cost =  24.684882014905494\n",
      "88 Cost =  24.67765386124115\n",
      "89 Cost =  24.670638691695224\n",
      "90 Cost =  24.66382956544476\n",
      "91 Cost =  24.657219841960462\n",
      "92 Cost =  24.65080316330215\n",
      "93 Cost =  24.64457343771147\n",
      "94 Cost =  24.638524824395923\n",
      "95 Cost =  24.632651719402073\n",
      "96 Cost =  24.626948742490796\n",
      "97 Cost =  24.621410724930954\n",
      "98 Cost =  24.616032698138113\n",
      "99 Cost =  24.610809883089118\n",
      "100 Cost =  24.6057376804527\n",
      "101 Cost =  24.600811661377772\n",
      "102 Cost =  24.596027558889194\n",
      "103 Cost =  24.591381259843633\n",
      "104 Cost =  24.586868797402467\n",
      "105 Cost =  24.582486343982062\n",
      "106 Cost =  24.578230204647152\n",
      "107 Cost =  24.574096810911804\n",
      "108 Cost =  24.57008271491992\n",
      "109 Cost =  24.566184583976444\n",
      "110 Cost =  24.562399195404527\n",
      "111 Cost =  24.558723431704628\n",
      "112 Cost =  24.55515427599452\n",
      "113 Cost =  24.551688807711066\n",
      "114 Cost =  24.54832419855357\n",
      "115 Cost =  24.545057708654742\n",
      "116 Cost =  24.541886682961554\n",
      "117 Cost =  24.538808547813204\n",
      "118 Cost =  24.535820807702116\n",
      "119 Cost =  24.53292104220662\n",
      "120 Cost =  24.53010690308318\n",
      "121 Cost =  24.52737611150947\n",
      "122 Cost =  24.524726455466297\n",
      "123 Cost =  24.522155787251876\n",
      "124 Cost =  24.519662021118663\n",
      "125 Cost =  24.517243131025445\n",
      "126 Cost =  24.514897148498424\n",
      "127 Cost =  24.512622160593615\n",
      "128 Cost =  24.510416307954564\n",
      "129 Cost =  24.508277782961354\n",
      "130 Cost =  24.506204827962257\n",
      "131 Cost =  24.504195733587405\n",
      "132 Cost =  24.50224883713589\n",
      "133 Cost =  24.500362521034543\n",
      "134 Cost =  24.498535211363958\n",
      "135 Cost =  24.49676537644663\n",
      "136 Cost =  24.495051525496034\n",
      "137 Cost =  24.49339220732156\n",
      "138 Cost =  24.491786009086713\n",
      "139 Cost =  24.49023155511835\n",
      "140 Cost =  24.488727505763755\n",
      "141 Cost =  24.487272556292908\n",
      "142 Cost =  24.485865435844197\n",
      "143 Cost =  24.484504906410677\n",
      "144 Cost =  24.483189761865653\n",
      "145 Cost =  24.48191882702461\n",
      "146 Cost =  24.480690956742908\n",
      "147 Cost =  24.479505035046206\n",
      "148 Cost =  24.47835997429346\n",
      "149 Cost =  24.477254714369053\n",
      "150 Cost =  24.476188221905335\n",
      "151 Cost =  24.475159489531325\n",
      "152 Cost =  24.47416753514814\n",
      "153 Cost =  24.473211401229946\n",
      "154 Cost =  24.47229015414796\n",
      "155 Cost =  24.471402883518266\n",
      "156 Cost =  24.470548701570852\n",
      "157 Cost =  24.469726742539535\n",
      "158 Cost =  24.468936162072556\n",
      "159 Cost =  24.4681761366614\n",
      "160 Cost =  24.46744586308939\n",
      "161 Cost =  24.46674455789577\n",
      "162 Cost =  24.466071456859062\n",
      "163 Cost =  24.465425814494697\n",
      "164 Cost =  24.464806903569343\n",
      "165 Cost =  24.464214014629672\n",
      "166 Cost =  24.463646455545486\n",
      "167 Cost =  24.463103551066755\n",
      "168 Cost =  24.462584642394017\n",
      "169 Cost =  24.462089086761065\n",
      "170 Cost =  24.46161625703062\n",
      "171 Cost =  24.461165541301018\n",
      "172 Cost =  24.460736342524914\n",
      "173 Cost =  24.46032807813852\n",
      "174 Cost =  24.45994017970199\n",
      "175 Cost =  24.45957209254891\n",
      "176 Cost =  24.459223275446984\n",
      "177 Cost =  24.45889320026739\n",
      "178 Cost =  24.45858135166282\n",
      "179 Cost =  24.45828722675602\n",
      "180 Cost =  24.45801033483482\n",
      "181 Cost =  24.45775019705712\n",
      "182 Cost =  24.457506346163058\n",
      "183 Cost =  24.457278326194523\n",
      "184 Cost =  24.45706569222337\n",
      "185 Cost =  24.456868010085362\n",
      "186 Cost =  24.456684856122507\n",
      "187 Cost =  24.456515816931077\n",
      "188 Cost =  24.45636048911676\n",
      "189 Cost =  24.45621847905597\n",
      "190 Cost =  24.45608940266336\n",
      "191 Cost =  24.45597288516566\n",
      "192 Cost =  24.455868560880155\n",
      "193 Cost =  24.455776073000504\n",
      "194 Cost =  24.455695073386163\n",
      "195 Cost =  24.455625222358805\n",
      "196 Cost =  24.455566188502438\n",
      "197 Cost =  24.45551764846951\n",
      "198 Cost =  24.455479286790947\n",
      "199 Cost =  24.4554507956922\n",
      "200 Cost =  24.45543187491211\n",
      "201 Cost =  24.455422231527766\n",
      "202 Cost =  24.45542157978295\n",
      "203 Cost =  24.455429640920254\n",
      "204 Cost =  24.455446143019003\n",
      "205 Cost =  24.45547082083461\n",
      "206 Cost =  24.455503415644205\n",
      "207 Cost =  24.45554367509446\n",
      "208 Cost =  24.45559135305387\n",
      "209 Cost =  24.455646209467872\n",
      "210 Cost =  24.45570801021778\n",
      "211 Cost =  24.45577652698385\n",
      "212 Cost =  24.4558515371099\n",
      "213 Cost =  24.45593282347263\n",
      "214 Cost =  24.45602017435307\n",
      "215 Cost =  24.456113383312154\n",
      "216 Cost =  24.456212249067548\n",
      "217 Cost =  24.456316575375293\n",
      "218 Cost =  24.4564261709127\n",
      "219 Cost =  24.456540849164714\n",
      "220 Cost =  24.456660428312766\n",
      "221 Cost =  24.45678473112603\n",
      "222 Cost =  24.45691358485579\n",
      "223 Cost =  24.457046821131257\n",
      "224 Cost =  24.457184275858886\n",
      "225 Cost =  24.457325789123296\n",
      "226 Cost =  24.457471205090556\n",
      "227 Cost =  24.45762037191405\n",
      "228 Cost =  24.45777314164232\n",
      "229 Cost =  24.457929370128525\n",
      "230 Cost =  24.458088916942998\n",
      "231 Cost =  24.45825164528694\n",
      "232 Cost =  24.458417421908234\n",
      "233 Cost =  24.45858611702005\n",
      "234 Cost =  24.45875760421934\n",
      "235 Cost =  24.45893176040963\n",
      "236 Cost =  24.4591084657236\n",
      "237 Cost =  24.45928760344869\n",
      "238 Cost =  24.459469059953392\n",
      "239 Cost =  24.459652724616248\n",
      "240 Cost =  24.45983848975561\n",
      "241 Cost =  24.460026250560997\n",
      "242 Cost =  24.46021590502708\n",
      "243 Cost =  24.460407353887682\n",
      "244 Cost =  24.460600500552466\n",
      "245 Cost =  24.46079525104426\n",
      "246 Cost =  24.460991513937756\n",
      "247 Cost =  24.461189200301078\n",
      "248 Cost =  24.46138822363612\n",
      "249 Cost =  24.46158849982266\n",
      "250 Cost =  24.461789947061934\n",
      "251 Cost =  24.461992485822968\n",
      "252 Cost =  24.462196038788534\n",
      "253 Cost =  24.46240053080425\n",
      "254 Cost =  24.462605888826598\n",
      "255 Cost =  24.462812041873864\n",
      "256 Cost =  24.46301892097773\n",
      "257 Cost =  24.463226459135115\n",
      "258 Cost =  24.463434591262697\n",
      "259 Cost =  24.463643254150345\n",
      "260 Cost =  24.46385238641805\n",
      "261 Cost =  24.46406192847152\n",
      "262 Cost =  24.4642718224607\n",
      "263 Cost =  24.46448201223693\n",
      "264 Cost =  24.464692443314203\n",
      "265 Cost =  24.464903062828338\n",
      "266 Cost =  24.465113819498384\n",
      "267 Cost =  24.465324663589175\n",
      "268 Cost =  24.46553554687423\n",
      "269 Cost =  24.46574642259938\n",
      "270 Cost =  24.465957245447395\n",
      "271 Cost =  24.46616797150346\n",
      "272 Cost =  24.46637855822178\n"
     ]
    },
    {
     "name": "stdout",
     "output_type": "stream",
     "text": [
      "273 Cost =  24.466588964391622\n",
      "274 Cost =  24.46679915010604\n",
      "275 Cost =  24.46700907672958\n",
      "276 Cost =  24.46721870686753\n",
      "277 Cost =  24.467428004336266\n",
      "278 Cost =  24.467636934132862\n",
      "279 Cost =  24.467845462407073\n",
      "280 Cost =  24.468053556432718\n",
      "281 Cost =  24.468261184580147\n",
      "282 Cost =  24.46846831628934\n",
      "283 Cost =  24.468674922043547\n",
      "284 Cost =  24.468880973343662\n",
      "285 Cost =  24.469086442683356\n",
      "286 Cost =  24.46929130352332\n",
      "287 Cost =  24.469495530268752\n",
      "288 Cost =  24.46969909824466\n",
      "289 Cost =  24.469901983673388\n",
      "290 Cost =  24.47010416365237\n",
      "291 Cost =  24.47030561613175\n",
      "292 Cost =  24.470506319893094\n",
      "293 Cost =  24.470706254528455\n",
      "294 Cost =  24.470905400419905\n",
      "295 Cost =  24.471103738719318\n",
      "296 Cost =  24.4713012513292\n",
      "297 Cost =  24.4714979208831\n",
      "298 Cost =  24.471693730727058\n",
      "299 Cost =  24.47188866490143\n",
      "[ -9.28531611   3.67490367   0.14002424   4.48240608  -8.93007404\n",
      "  16.2535578   -1.9725798  -16.05540855   7.21251679  -6.36997896\n",
      " -10.55966872   1.64890511 -19.58751733] 32.46936160314724\n"
     ]
    }
   ],
   "source": [
    "m,c = run(X_train, Y_train, 0.01, 300)"
   ]
  },
  {
   "cell_type": "code",
   "execution_count": 32,
   "id": "704b8ccd",
   "metadata": {},
   "outputs": [],
   "source": [
    "Y_pred = predict(X_test, m, c)"
   ]
  },
  {
   "cell_type": "code",
   "execution_count": 33,
   "id": "926f348f",
   "metadata": {},
   "outputs": [
    {
     "data": {
      "image/png": "[encoded data removed]",
      "text/plain": [
       "<Figure size 640x480 with 1 Axes>"
      ]
     },
     "metadata": {},
     "output_type": "display_data"
    }
   ],
   "source": [
    "import matplotlib.pyplot as plt\n",
    "\n",
    "one = np.arange(0,50, 1)\n",
    "plt.plot(one,one)\n",
    "plt.scatter(Y_test, Y_pred)\n",
    "plt.show()"
   ]
  },
  {
   "cell_type": "code",
   "execution_count": 34,
   "id": "0cd64648",
   "metadata": {},
   "outputs": [
    {
     "data": {
      "text/plain": [
       "0.7566546310923543"
      ]
     },
     "execution_count": 34,
     "metadata": {},
     "output_type": "execute_result"
    }
   ],
   "source": [
    "score(Y_pred, Y_test)"
   ]
  },
  {
   "cell_type": "code",
   "execution_count": 35,
   "id": "2cadedb9",
   "metadata": {},
   "outputs": [],
   "source": [
    "Y_pred2 = predict(X_train, m, c)"
   ]
  },
  {
   "cell_type": "code",
   "execution_count": 36,
   "id": "63912106",
   "metadata": {},
   "outputs": [
    {
     "data": {
      "image/png": "[encoded data removed]",
      "text/plain": [
       "<Figure size 640x480 with 1 Axes>"
      ]
     },
     "metadata": {},
     "output_type": "display_data"
    }
   ],
   "source": [
    "import matplotlib.pyplot as plt\n",
    "\n",
    "one = np.arange(0,50, 1)\n",
    "plt.plot(one,one)\n",
    "plt.scatter(Y_train, Y_pred2)\n",
    "plt.show()"
   ]
  },
  {
   "cell_type": "code",
   "execution_count": 37,
   "id": "3f52efc6",
   "metadata": {},
   "outputs": [
    {
     "data": {
      "text/plain": [
       "0.7020445277785466"
      ]
     },
     "execution_count": 37,
     "metadata": {},
     "output_type": "execute_result"
    }
   ],
   "source": [
    "score(Y_pred2, Y_train)"
   ]
  }
 ],
 "metadata": {
  "kernelspec": {
   "display_name": "Python 3 (ipykernel)",
   "language": "python",
   "name": "python3"
  },
  "language_info": {
   "codemirror_mode": {
    "name": "ipython",
    "version": 3
   },
   "file_extension": ".py",
   "mimetype": "text/x-python",
   "name": "python",
   "nbconvert_exporter": "python",
   "pygments_lexer": "ipython3",
   "version": "3.10.2"
  }
 },
 "nbformat": 4,
 "nbformat_minor": 5
}
